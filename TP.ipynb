{
 "cells": [
  {
   "cell_type": "markdown",
   "id": "ce6f5e6c-c12e-4488-a3fd-9f36258096bd",
   "metadata": {},
   "source": [
    "# TP"
   ]
  },
  {
   "cell_type": "markdown",
   "id": "66f7592a-d72a-4d89-850b-04859f5f8fe4",
   "metadata": {},
   "source": [
    "Text introductif"
   ]
  },
  {
   "cell_type": "markdown",
   "id": "d5be198a-cdc5-4bc4-881d-250cc7f60a61",
   "metadata": {},
   "source": [
    "<nop/><div style=\"width: 200px;\">\n",
    "![Couverture](assets/Couverture.jpg)\n",
    "</div>"
   ]
  },
  {
   "cell_type": "code",
   "execution_count": 2,
   "id": "126abb6c-6dad-4c4b-8aea-2e8e638e1463",
   "metadata": {},
   "outputs": [],
   "source": [
    "library(ggplot2)"
   ]
  },
  {
   "cell_type": "markdown",
   "id": "5eb0a64b-08d5-455e-ae37-ca8abc010f74",
   "metadata": {},
   "source": [
    "## **Question 1 :** xxx"
   ]
  },
  {
   "cell_type": "markdown",
   "id": "794e5b07-6dd6-452b-b71a-7b390d24dbff",
   "metadata": {},
   "source": [
    "## **Question 2 :** xxx"
   ]
  },
  {
   "cell_type": "markdown",
   "id": "f588bcfa-95d1-4b2e-b773-26360cfa0f64",
   "metadata": {},
   "source": [
    "## **Question 3 :** xxx"
   ]
  }
 ],
 "metadata": {
  "kernelspec": {
   "display_name": "R",
   "language": "R",
   "name": "ir"
  },
  "language_info": {
   "codemirror_mode": "r",
   "file_extension": ".r",
   "mimetype": "text/x-r-source",
   "name": "R",
   "pygments_lexer": "r",
   "version": "4.4.1"
  }
 },
 "nbformat": 4,
 "nbformat_minor": 5
}
