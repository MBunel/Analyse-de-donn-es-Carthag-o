{
 "cells": [
  {
   "cell_type": "markdown",
   "id": "ce6f5e6c-c12e-4488-a3fd-9f36258096bd",
   "metadata": {
    "editable": true,
    "slideshow": {
     "slide_type": ""
    },
    "tags": []
   },
   "source": [
    "# TP noté : Analyse de données (Carthagéo 2023-2024)"
   ]
  },
  {
   "cell_type": "markdown",
   "id": "17b349aa-c211-4935-a83d-a94c55c0ee7a",
   "metadata": {
    "editable": true,
    "slideshow": {
     "slide_type": ""
    },
    "tags": []
   },
   "source": [
    "*Votre Prénom et votre Nom* "
   ]
  },
  {
   "cell_type": "markdown",
   "id": "1b7b1a55-e534-4ed6-840f-9feeb9f4f85b",
   "metadata": {
    "editable": true,
    "slideshow": {
     "slide_type": ""
    },
    "tags": []
   },
   "source": [
    "|  Critère                       |  Points  | Barème |\n",
    "|--------------------------------|:--------:|:------:|\n",
    "| Question 1                     |          |    5   |\n",
    "| Question 2                     |          |    5   |\n",
    "| Question 3                     |          |    5   |\n",
    "| Reproductibilité des résultats |          |    5   |\n",
    "| **Total**                      |          | **20** |"
   ]
  },
  {
   "cell_type": "markdown",
   "id": "5654a04e-401c-42c7-81f3-cfd391393497",
   "metadata": {
    "editable": true,
    "slideshow": {
     "slide_type": ""
    },
    "tags": []
   },
   "source": [
    "## Introduction"
   ]
  },
  {
   "cell_type": "markdown",
   "id": "59771db8-5dc5-4e2b-be1b-8c8f77b307f2",
   "metadata": {
    "editable": false,
    "slideshow": {
     "slide_type": ""
    },
    "tags": []
   },
   "source": [
    "Dans un article de publié dans le journal Le Monde en août 1972 [[3]](#Références), le géographe Yves Lacoste démontre, à l’aide d’une analyse cartographique et d’un enquête sur le terrain, que l’état-major américain — alors en pleine guerre du Viet-Nam — a mis en place un plan, visant a bombarder massivement les digues du delta du fleuve rouge, en vue de maximiser les dégâts matériels et de multiplier les morts lors de la prochaine crue du fleuve."
   ]
  },
  {
   "cell_type": "markdown",
   "id": "e23aaf1f-b80a-4ad0-8b49-32d89a3632c8",
   "metadata": {
    "editable": false,
    "slideshow": {
     "slide_type": ""
    },
    "tags": []
   },
   "source": [
    "La publication de cet article a eu d’importantes répercutions sur le plan international [[2]](#Références), malgré les efforts du gouvernement de Nixon pour étouffer l’affaire. Le principal contre-argument avancé par l'état américain était que les digues étaient touchées par erreurs, car proches d’objectifs militaires."
   ]
  },
  {
   "cell_type": "markdown",
   "id": "d5be198a-cdc5-4bc4-881d-250cc7f60a61",
   "metadata": {
    "editable": false,
    "slideshow": {
     "slide_type": ""
    },
    "tags": []
   },
   "source": [
    "<nop/><div style=\"width: 200px; margin: auto;\">\n",
    "![Couverture](assets/Couverture.jpg)\n",
    "</div>"
   ]
  },
  {
   "cell_type": "markdown",
   "id": "4a5d17f8-b092-49ad-b664-bc167f36b72b",
   "metadata": {
    "editable": false,
    "slideshow": {
     "slide_type": ""
    },
    "tags": []
   },
   "source": [
    "Revenant sur cet épisode dans le numéro fondateur de la revue Hérodote [[1]](#Références), Lacoste déclare :"
   ]
  },
  {
   "cell_type": "markdown",
   "id": "56f35b0c-16dc-48b8-9026-8fbb65ea4926",
   "metadata": {
    "editable": false,
    "slideshow": {
     "slide_type": ""
    },
    "tags": []
   },
   "source": [
    "> Ainsi la carte des points de bombardement sur les digues dans le delta révélait dans une grande mesure le plan de l’état-major américain. Si, comme le prétendait le Pentagone, les digues étaient touchées involontairement, en raison de leur proximité d’objectifs militaire, la carte aurait été tout autre : c’est dans les région d’Hanoï et de d’Haïphong que les digues auraient surtout été touchées. Or ce n’était absolument pas le cas […]."
   ]
  },
  {
   "cell_type": "markdown",
   "id": "b971ac99-e8ef-4ec1-a045-8221438dd04b",
   "metadata": {
    "editable": false,
    "slideshow": {
     "slide_type": ""
    },
    "tags": []
   },
   "source": [
    "Le principal argument avancé par Lacoste [[3]](#Références) pour étayer sa démonstration est la surreprésentation de bombardements à proximité des digues dans la partie est du delta : "
   ]
  },
  {
   "cell_type": "markdown",
   "id": "9cb4856c-6b65-4766-ab70-d4ee0d86bd46",
   "metadata": {
    "editable": false,
    "slideshow": {
     "slide_type": ""
    },
    "tags": []
   },
   "source": [
    "> Si l’on examine attentivement la carte des points où les digues ont été touchées, une première constatation s’impose : à l’exception de quatre cas (deux à proximité de Hanoï et deux, dont l’écluse de Phuly, sur la rivière Day), tous les points bombardés (cinquante-quatre sur cinquante-huit) se situent dans la partie orientale du delta, depuis le district de Nam-Sach au nord, la province de Taï-Binh et celles de Nam-Dinh et de Ninh-Binh au sud. L’administration américaine, d’ailleurs, reconnaît ce fait et prétend en tirer argument en sa faveur, déclarant que des bombardements visant à provoquer de graves inondations porteraient sur la partie ouest du delta, vers l’amont, qui est justement la partie épargnée. L’examen des conditions géographiques permet, au contraire, de tirer des conclusions inverses."
   ]
  },
  {
   "cell_type": "markdown",
   "id": "a7f03384-4c8c-4867-908c-0fe40daba0c7",
   "metadata": {
    "editable": false,
    "slideshow": {
     "slide_type": ""
    },
    "tags": []
   },
   "source": [
    "Or, la partie est du delta du fleuve rouge est la plus vulnérable en cas de rupture de digues, car plus plane que la partie ouest. « [La crue] pourrait ainsi se déverser sur la plaine en contrebas, puisque, donnée essentielle, le fleuve et ses différents bras coulent une dizaine de mètres en remblais au-dessus du niveau de la plaine » [[2]](#Références)."
   ]
  },
  {
   "cell_type": "markdown",
   "id": "7a17f808-3a18-4674-9132-223787e6953d",
   "metadata": {
    "editable": false,
    "slideshow": {
     "slide_type": ""
    },
    "tags": []
   },
   "source": [
    "## Références\n",
    "- <a id=\"ref_1\">[1]</a> Yves Lacoste. « Enquête sur le bombardement des digues du fleuve Rouge ». In : *Hérodote* 1.1 (1976), p. 86-117.\n",
    "- <a id=\"ref_2\">[2]</a> Yves Lacoste. « Hérodote et un delta, il y a trente ans ». In : *Hérodote* 121.2 (2006), p. 3-5.\n",
    "- <a id=\"ref_3\">[3]</a> Yves Lacoste. « Les bombardements de digues sont délibérés ». In : *Le Monde* (1972)."
   ]
  },
  {
   "cell_type": "markdown",
   "id": "e35dfce7-db73-4941-b7ab-b7fe9a0376b7",
   "metadata": {
    "editable": false,
    "slideshow": {
     "slide_type": ""
    },
    "tags": []
   },
   "source": [
    "---"
   ]
  },
  {
   "cell_type": "markdown",
   "id": "bea27a96-c177-470c-a2bf-11c0978a076d",
   "metadata": {
    "editable": true,
    "jp-MarkdownHeadingCollapsed": true,
    "slideshow": {
     "slide_type": ""
    },
    "tags": []
   },
   "source": [
    "## Consignes"
   ]
  },
  {
   "cell_type": "markdown",
   "id": "b78b63c1-ba4b-4e3c-8506-45df2f2055b7",
   "metadata": {
    "editable": true,
    "slideshow": {
     "slide_type": ""
    },
    "tags": []
   },
   "source": [
    "En vous basant sur les données fournies et sur les modèles statistiques vus en cours,\n",
    "essayez de démontrer les hypothèses proposées par Yves Lacoste :\n",
    "\n",
    "- Il y a une surreprésentation des bombardements dans le delta du fleuve rouge entre\n",
    "avril et août 1972\n",
    "- Ces bombardements se focalisent sur la partie est du delta\n",
    "- Les digues et les zones à proximité du fleuve rouge sont particulièrement touchées."
   ]
  },
  {
   "cell_type": "markdown",
   "id": "ef434a81-31fe-41f8-9437-8f9b4f9875a5",
   "metadata": {
    "editable": true,
    "slideshow": {
     "slide_type": ""
    },
    "tags": []
   },
   "source": [
    "Votre objectif est également de proposer un notebook qui soit reproductible"
   ]
  },
  {
   "cell_type": "markdown",
   "id": "cc53259b-6d40-499f-b96a-444c331ccf26",
   "metadata": {
    "editable": true,
    "slideshow": {
     "slide_type": ""
    },
    "tags": []
   },
   "source": [
    "Le fichier *notebook* est à envoyer à l'adresse mail *mattia.bunel@ehess.fr* avant le **??/10/2024** (si vous avez des problèmes avec l'export regardez l'annexe [#Export du notebook](#Export-du-notebook))."
   ]
  },
  {
   "cell_type": "markdown",
   "id": "bcf51d60-fa64-410c-a396-e8f7d4b7f868",
   "metadata": {
    "editable": false,
    "slideshow": {
     "slide_type": ""
    },
    "tags": []
   },
   "source": [
    "### Grille d'évaluation"
   ]
  },
  {
   "cell_type": "markdown",
   "id": "0f087f2c-2949-4ab0-b343-940c0dbe930f",
   "metadata": {
    "editable": true,
    "slideshow": {
     "slide_type": ""
    },
    "tags": []
   },
   "source": [
    "Ce travail est noté sur 20"
   ]
  },
  {
   "cell_type": "markdown",
   "id": "c2cf3a49-2bc7-4363-a007-8d22ef950f44",
   "metadata": {
    "editable": true,
    "slideshow": {
     "slide_type": ""
    },
    "tags": []
   },
   "source": [
    "Pour la réponse aux questions 1 à 3 (sur 5):\n",
    "- Formulation explicite des hypothèses\n",
    "- Réponse aux hypothèses appuyée par des cartes et des graphiques\n",
    "- Soin apporté aux figures\n",
    "- Réponses rédigées et détaillées"
   ]
  },
  {
   "cell_type": "markdown",
   "id": "488d9686-b00c-4305-8b27-814ae77107b8",
   "metadata": {
    "editable": true,
    "slideshow": {
     "slide_type": ""
    },
    "tags": []
   },
   "source": [
    "Pour la partie reproductibilité :\n",
    "- J'arrive à exécuter le notebook\n",
    "- Cartes et figures as code"
   ]
  },
  {
   "cell_type": "markdown",
   "id": "a74d463d-73fe-4ac0-8353-2d8b22719d94",
   "metadata": {
    "editable": false,
    "slideshow": {
     "slide_type": ""
    },
    "tags": []
   },
   "source": [
    "---"
   ]
  },
  {
   "cell_type": "markdown",
   "id": "db402fd4-c325-4034-afd9-c003ac72556d",
   "metadata": {
    "editable": true,
    "slideshow": {
     "slide_type": ""
    },
    "tags": []
   },
   "source": [
    "## Réponses aux questions"
   ]
  },
  {
   "cell_type": "code",
   "execution_count": null,
   "id": "17d93e18-94df-43c2-8d6b-da01b39ea996",
   "metadata": {
    "editable": true,
    "slideshow": {
     "slide_type": ""
    },
    "tags": []
   },
   "outputs": [],
   "source": [
    "# On installe les packages manquants\n",
    "install.packages(\"mapsf\")\n",
    "\n",
    "# N'hésitez pas à rajouter les pacakges qui vous sont nécessaires"
   ]
  },
  {
   "cell_type": "code",
   "execution_count": null,
   "id": "126abb6c-6dad-4c4b-8aea-2e8e638e1463",
   "metadata": {
    "editable": true,
    "slideshow": {
     "slide_type": ""
    },
    "tags": []
   },
   "outputs": [],
   "source": [
    "# Import des packages R nécessaires\n",
    "library(ggplot2)\n",
    "library(dplyr)\n",
    "library(sf)\n",
    "library(mapsf)\n",
    "\n",
    "# N'hésitez pas à rajouter les pacakges qui vous sont nécessaires"
   ]
  },
  {
   "cell_type": "markdown",
   "id": "5eb0a64b-08d5-455e-ae37-ca8abc010f74",
   "metadata": {
    "editable": false,
    "slideshow": {
     "slide_type": ""
    },
    "tags": []
   },
   "source": [
    "### Q1: Démontrer la surreprésentation des bombardements dans le delta du fleuve rouge entre avril et août 1972"
   ]
  },
  {
   "cell_type": "markdown",
   "id": "80f5285b-7c30-4087-a61f-23294b9efb65",
   "metadata": {},
   "source": [
    "> À vous de jouer…"
   ]
  },
  {
   "cell_type": "markdown",
   "id": "794e5b07-6dd6-452b-b71a-7b390d24dbff",
   "metadata": {
    "editable": false,
    "slideshow": {
     "slide_type": ""
    },
    "tags": []
   },
   "source": [
    "### Q2: Démontrer que les bombardement de la période arvil — août 1972 se focalisent sur la partie est du delta du fleuve Rouge"
   ]
  },
  {
   "cell_type": "markdown",
   "id": "beb3cf53-a9a1-4265-bd1e-7721ea18dc91",
   "metadata": {},
   "source": [
    "> À vous de jouer…"
   ]
  },
  {
   "cell_type": "markdown",
   "id": "f588bcfa-95d1-4b2e-b773-26360cfa0f64",
   "metadata": {
    "editable": false,
    "slideshow": {
     "slide_type": ""
    },
    "tags": []
   },
   "source": [
    "### Q3: Démontrer que les digues et les zones à proximité du fleuve rouge sont particulièrement touchées (pour la période  arvil — août 1972 )"
   ]
  },
  {
   "cell_type": "markdown",
   "id": "5ae009f9-5fa4-477c-b0d2-7fa74b024748",
   "metadata": {
    "editable": true,
    "slideshow": {
     "slide_type": ""
    },
    "tags": []
   },
   "source": [
    "> À vous de jouer…"
   ]
  },
  {
   "cell_type": "markdown",
   "id": "ef227665-fd28-4aab-9831-0f369b83c5ff",
   "metadata": {
    "editable": false,
    "slideshow": {
     "slide_type": ""
    },
    "tags": []
   },
   "source": [
    "---"
   ]
  },
  {
   "cell_type": "markdown",
   "id": "77af0532-ec5c-4625-ab1a-faccf539ca07",
   "metadata": {
    "editable": true,
    "slideshow": {
     "slide_type": ""
    },
    "tags": []
   },
   "source": [
    "## Annexes"
   ]
  },
  {
   "cell_type": "markdown",
   "id": "745fc8b7-72dd-4556-92fe-ee0159ec1db2",
   "metadata": {},
   "source": [
    "Quelques informations supplémentaires qui peuvent vous aider"
   ]
  },
  {
   "cell_type": "markdown",
   "id": "5c71f36c-7766-4eb3-a8b8-ceb896458bf3",
   "metadata": {
    "editable": true,
    "slideshow": {
     "slide_type": ""
    },
    "tags": []
   },
   "source": [
    "### Sources et documentation des données"
   ]
  },
  {
   "cell_type": "markdown",
   "id": "e5076e36-263b-44d5-ae6f-bb21e0b7b2bf",
   "metadata": {
    "editable": true,
    "slideshow": {
     "slide_type": ""
    },
    "tags": []
   },
   "source": [
    "- Base de données des bombardements :[THOR Draft Data Dictionary](data/thor_data_dictionary_2016.pdf)\n",
    "- Données hydrographiques : [Open Development Mekong](https://data.opendevelopmentmekong.net/en/dataset/greater-mekong-subregion-rivers)\n",
    "- Provinces et villes : [Natural Earth](https://www.naturalearthdata.com/downloads/10m-cultural-vectors/)"
   ]
  },
  {
   "cell_type": "markdown",
   "id": "06d01e16-ecb6-4117-a04c-6fb5912fd6dc",
   "metadata": {
    "editable": true,
    "slideshow": {
     "slide_type": ""
    },
    "tags": []
   },
   "source": [
    "### Documentation R"
   ]
  },
  {
   "cell_type": "markdown",
   "id": "12c9033e-da4d-4d90-8d4e-b4a7d668932f",
   "metadata": {
    "editable": true,
    "slideshow": {
     "slide_type": ""
    },
    "tags": []
   },
   "source": [
    "### Export du notebook"
   ]
  },
  {
   "cell_type": "markdown",
   "id": "f970e9c8-c3a0-467b-aab1-6cb88f4ea38e",
   "metadata": {
    "editable": true,
    "slideshow": {
     "slide_type": ""
    },
    "tags": []
   },
   "source": [
    "Pour exporter votre notebook, suivez la démarche suivante:\n",
    "1. **Renseignez votre nom** dans la seconde cellule du notebook\n",
    "2. Allez dans le menu *\"File\"*\n",
    "3. Choissiez *\"Download\"*\n",
    "4. Enregistrez le fichier *\"TP.ipynb\"*\n",
    "5. Renomez le fichier en *\"TP_votre-nom.ipynb\"*\n",
    "6. Envoyez-moi le fichier par mail: mattia.bunel@ehess.fr"
   ]
  },
  {
   "cell_type": "markdown",
   "id": "271fa032-1224-418b-9ce6-d7f2750d4a02",
   "metadata": {
    "editable": true,
    "slideshow": {
     "slide_type": ""
    },
    "tags": []
   },
   "source": [
    "### Exemples"
   ]
  },
  {
   "cell_type": "markdown",
   "id": "3a9530f4-af0b-4a3f-a787-f7c61253e8da",
   "metadata": {},
   "source": [
    "Lister les couches présentes dans le fichier *geopackage* (gpkg):"
   ]
  },
  {
   "cell_type": "code",
   "execution_count": null,
   "id": "7dff23d3-1314-4ad0-89d5-28c19f42f15e",
   "metadata": {
    "scrolled": true
   },
   "outputs": [],
   "source": [
    "# On liste l'ensemble des couches disponibles dans \"data/data.gpkg\"\n",
    "st_layers(\"data/data.gpkg\")$name"
   ]
  },
  {
   "cell_type": "markdown",
   "id": "c242d5de-a474-42ab-a24d-0c0ffdb60187",
   "metadata": {},
   "source": [
    "Charger une couche du *geopackage*:"
   ]
  },
  {
   "cell_type": "code",
   "execution_count": null,
   "id": "b1321cff-0f91-4f6d-933c-d2c1da65d419",
   "metadata": {},
   "outputs": [],
   "source": [
    "# On importe la couche \"provinces\"\n",
    "provinces <- st_read(\"data/data.gpkg\",\n",
    "                     layer = \"provinces\")"
   ]
  },
  {
   "cell_type": "markdown",
   "id": "d0f58e91-d1cb-4d1a-9194-2d111ae3bfc0",
   "metadata": {},
   "source": [
    "Cartographie thématique :"
   ]
  },
  {
   "cell_type": "code",
   "execution_count": null,
   "id": "6372bad5-0323-4bf7-9505-6e14696beca4",
   "metadata": {
    "editable": true,
    "slideshow": {
     "slide_type": ""
    },
    "tags": []
   },
   "outputs": [],
   "source": [
    "# Cartographie de la couche province\n",
    "# On utilise le package mapsf\n",
    "\n",
    "# On importe la couche \"provinces\"\n",
    "provinces <- st_read(\"data/data.gpkg\",\n",
    "                     layer = \"provinces\")\n",
    "\n",
    "# Thème de la carte\n",
    "# Les différents thèmes sont listés ici : https://riatelab.github.io/mapsf/articles/mapsf.html#themes\n",
    "mf_theme(\"ink\")\n",
    "\n",
    "# On affiche la couche des provinces\n",
    "mf_map(provinces)\n",
    "\n",
    "# On ajoute un emplacement pour le titre\n",
    "mf_title(pos = \"left\")\n",
    "\n",
    "# On défini la source et le titre\n",
    "mf_layout(\n",
    "  title = \"Population Distribution in Martinique\",\n",
    "  credits = paste0(\n",
    "    \"Sources: Insee and IGN, 2018\\n\",\n",
    "    \"mapsf \",\n",
    "    packageVersion(\"mapsf\")\n",
    "  )\n",
    ")"
   ]
  },
  {
   "cell_type": "markdown",
   "id": "2ce80be3-6620-43c7-9aac-c3776ae96d81",
   "metadata": {},
   "source": [
    "Regroupement par localisation (nombre de bombardements par province) et cartographie du résultat"
   ]
  },
  {
   "cell_type": "code",
   "execution_count": null,
   "id": "e7d8d3c3-e13d-42f4-aa97-cd7d48d330f8",
   "metadata": {},
   "outputs": [],
   "source": [
    "# On importe la couche \"provinces\"\n",
    "provinces <- st_read(\"data/data.gpkg\",\n",
    "                     layer = \"provinces\")\n",
    "\n",
    "# On importe la couche \"bombardements\"\n",
    "bombardements <- st_read(\"data/data.gpkg\",\n",
    "                         layer = \"bombardements\")\n",
    "\n",
    "# Agrégation par localisation\n",
    "aggregate(bombardements$geom, provinces$geom, count, \n",
    "     join = function(x, y) st_within(x,y))\n",
    "\n",
    "# Cartographie"
   ]
  },
  {
   "cell_type": "markdown",
   "id": "fd56a8c7-0d68-4eda-81b4-b81232f18f59",
   "metadata": {
    "editable": true,
    "slideshow": {
     "slide_type": ""
    },
    "tags": []
   },
   "source": [
    "Plus de documentation sur la cartographie avec mapsf ici : https://rgeomatic.hypotheses.org/2212"
   ]
  },
  {
   "cell_type": "code",
   "execution_count": null,
   "id": "2a6c039f-9015-4a18-85e6-85b2c07a6f36",
   "metadata": {},
   "outputs": [],
   "source": []
  },
  {
   "cell_type": "code",
   "execution_count": null,
   "id": "33e0163b-b876-4927-a9b0-7eca7bfa391b",
   "metadata": {},
   "outputs": [],
   "source": []
  },
  {
   "cell_type": "code",
   "execution_count": null,
   "id": "1b9a8817-0ec0-4c9e-8324-4c9b4c019699",
   "metadata": {
    "editable": true,
    "slideshow": {
     "slide_type": ""
    },
    "tags": []
   },
   "outputs": [],
   "source": []
  }
 ],
 "metadata": {
  "kernelspec": {
   "display_name": "R",
   "language": "R",
   "name": "ir"
  },
  "language_info": {
   "codemirror_mode": "r",
   "file_extension": ".r",
   "mimetype": "text/x-r-source",
   "name": "R",
   "pygments_lexer": "r",
   "version": "4.4.1"
  }
 },
 "nbformat": 4,
 "nbformat_minor": 5
}
