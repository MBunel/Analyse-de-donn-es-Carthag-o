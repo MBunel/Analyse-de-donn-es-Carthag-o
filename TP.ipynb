{
 "cells": [
  {
   "cell_type": "markdown",
   "id": "ce6f5e6c-c12e-4488-a3fd-9f36258096bd",
   "metadata": {
    "editable": true,
    "slideshow": {
     "slide_type": ""
    },
    "tags": []
   },
   "source": [
    "# TP noté : Analyse de données (Carthagéo 2023-2024)"
   ]
  },
  {
   "cell_type": "markdown",
   "id": "5654a04e-401c-42c7-81f3-cfd391393497",
   "metadata": {
    "editable": true,
    "slideshow": {
     "slide_type": ""
    },
    "tags": []
   },
   "source": [
    "## Introduction"
   ]
  },
  {
   "cell_type": "markdown",
   "id": "59771db8-5dc5-4e2b-be1b-8c8f77b307f2",
   "metadata": {
    "editable": false,
    "slideshow": {
     "slide_type": ""
    },
    "tags": []
   },
   "source": [
    "Dans un article de publié dans le journal Le Monde en août 1972 [[3]](#Références), le géographe Yves Lacoste démontre, à l’aide d’une analyse cartographique et d’un enquête sur le terrain, que l’état-major américain — alors en pleine guerre du Viet-Nam — a mis en place un plan, visant a bombarder massivement les digues du delta du fleuve rouge, en vue de maximiser les dégâts matériels et de multiplier les morts lors de la prochaine crue du fleuve."
   ]
  },
  {
   "cell_type": "markdown",
   "id": "e23aaf1f-b80a-4ad0-8b49-32d89a3632c8",
   "metadata": {
    "editable": false,
    "slideshow": {
     "slide_type": ""
    },
    "tags": []
   },
   "source": [
    "La publication de cet article a eu d’importantes répercutions sur le plan international [[2]](#Références), malgré les efforts du gouvernement de Nixon pour étouffer l’affaire. Le principal contre-argument avancé par l'état américain était que les digues étaient touchées par erreurs, car proches d’objectifs militaires."
   ]
  },
  {
   "cell_type": "markdown",
   "id": "d5be198a-cdc5-4bc4-881d-250cc7f60a61",
   "metadata": {
    "editable": false,
    "slideshow": {
     "slide_type": ""
    },
    "tags": []
   },
   "source": [
    "<nop/><div style=\"width: 200px; margin: auto;\">\n",
    "![Couverture](assets/Couverture.jpg)\n",
    "</div>"
   ]
  },
  {
   "cell_type": "markdown",
   "id": "4a5d17f8-b092-49ad-b664-bc167f36b72b",
   "metadata": {
    "editable": false,
    "slideshow": {
     "slide_type": ""
    },
    "tags": []
   },
   "source": [
    "Revenant sur cet épisode dans le numéro fondateur de la revue Hérodote [[1]](#Références), Lacoste déclare :"
   ]
  },
  {
   "cell_type": "markdown",
   "id": "56f35b0c-16dc-48b8-9026-8fbb65ea4926",
   "metadata": {
    "editable": false,
    "slideshow": {
     "slide_type": ""
    },
    "tags": []
   },
   "source": [
    "> Ainsi la carte des points de bombardement sur les digues dans le delta révélait dans une grande mesure le plan de l’état-major américain. Si, comme le prétendait le Pentagone, les digues étaient touchées involontairement, en raison de leur proximité d’objectifs militaire, la carte aurait été tout autre : c’est dans les région d’Hanoï et de d’Haïphong que les digues auraient surtout été touchées. Or ce n’était absolument pas le cas […]."
   ]
  },
  {
   "cell_type": "markdown",
   "id": "b971ac99-e8ef-4ec1-a045-8221438dd04b",
   "metadata": {
    "editable": false,
    "slideshow": {
     "slide_type": ""
    },
    "tags": []
   },
   "source": [
    "Le principal argument avancé par Lacoste [[3]](#Références) pour étayer sa démonstration est la surreprésentation de bombardements à proximité des digues dans la partie est du delta : "
   ]
  },
  {
   "cell_type": "markdown",
   "id": "9cb4856c-6b65-4766-ab70-d4ee0d86bd46",
   "metadata": {
    "editable": false,
    "slideshow": {
     "slide_type": ""
    },
    "tags": []
   },
   "source": [
    "> Si l’on examine attentivement la carte des points où les digues ont été touchées, une première constatation s’impose : à l’exception de quatre cas (deux à proximité de Hanoï et deux, dont l’écluse de Phuly, sur la rivière Day), tous les points bombardés (cinquante-quatre sur cinquante-huit) se situent dans la partie orientale du delta, depuis le district de Nam-Sach au nord, la province de Taï-Binh et celles de Nam-Dinh et de Ninh-Binh au sud. L’administration américaine, d’ailleurs, reconnaît ce fait et prétend en tirer argument en sa faveur, déclarant que des bombardements visant à provoquer de graves inondations porteraient sur la partie ouest du delta, vers l’amont, qui est justement la partie épargnée. L’examen des conditions géographiques permet, au contraire, de tirer des conclusions inverses."
   ]
  },
  {
   "cell_type": "markdown",
   "id": "a7f03384-4c8c-4867-908c-0fe40daba0c7",
   "metadata": {
    "editable": false,
    "slideshow": {
     "slide_type": ""
    },
    "tags": []
   },
   "source": [
    "Or, la partie est du delta du fleuve rouge est la plus vulnérable en cas de rupture de digues, car plus plane que la partie ouest. « [La crue] pourrait ainsi se déverser sur la plaine en contrebas, puisque, donnée essentielle, le fleuve et ses différents bras coulent une dizaine de mètres en remblais au-dessus du niveau de la plaine » [[2]](#Références)."
   ]
  },
  {
   "cell_type": "markdown",
   "id": "bea27a96-c177-470c-a2bf-11c0978a076d",
   "metadata": {
    "editable": true,
    "slideshow": {
     "slide_type": ""
    },
    "tags": []
   },
   "source": [
    "## Consignes"
   ]
  },
  {
   "cell_type": "markdown",
   "id": "b78b63c1-ba4b-4e3c-8506-45df2f2055b7",
   "metadata": {
    "editable": true,
    "slideshow": {
     "slide_type": ""
    },
    "tags": []
   },
   "source": [
    "En vous basant sur les données fournies et sur les modèles statistiques vus en cours,\n",
    "essayez de démontrer les hypothèses proposées par Yves Lacoste :\n",
    "\n",
    "- Il y a une surreprésentation des bombardements dans le delta du fleuve rouge entre\n",
    "avril et août 1972\n",
    "- Ces bombardements se focalisent sur la partie est du delta\n",
    "- Les digues et les zones à proximité du fleuve rouge sont particulièrement touchées."
   ]
  },
  {
   "cell_type": "markdown",
   "id": "bcf51d60-fa64-410c-a396-e8f7d4b7f868",
   "metadata": {
    "editable": false,
    "slideshow": {
     "slide_type": ""
    },
    "tags": []
   },
   "source": [
    "### Grille d'évaluation"
   ]
  },
  {
   "cell_type": "markdown",
   "id": "1b7b1a55-e534-4ed6-840f-9feeb9f4f85b",
   "metadata": {
    "editable": true,
    "slideshow": {
     "slide_type": ""
    },
    "tags": []
   },
   "source": [
    "|  Critère                       |  Points  | Barème |\n",
    "|--------------------------------|:--------:|:------:|\n",
    "| Question 1                     |          |    5   |\n",
    "| Question 2                     |          |    5   |\n",
    "| Question 3                     |          |    5   |\n",
    "| Reproductibilité des résultats |          |    5   |\n",
    "| **Total**                      |          | **20** |"
   ]
  },
  {
   "cell_type": "markdown",
   "id": "a5f7adcb-4fde-4b3e-9f2d-07004013e16e",
   "metadata": {
    "editable": true,
    "slideshow": {
     "slide_type": ""
    },
    "tags": []
   },
   "source": [
    "**NB :** Pensez à détailler vos hypothèses de travail et à appuyer vos analyses avec des\n",
    "cartes et des graphiques."
   ]
  },
  {
   "cell_type": "markdown",
   "id": "db402fd4-c325-4034-afd9-c003ac72556d",
   "metadata": {
    "editable": false,
    "slideshow": {
     "slide_type": ""
    },
    "tags": []
   },
   "source": [
    "## Réponse aux questions"
   ]
  },
  {
   "cell_type": "code",
   "execution_count": null,
   "id": "126abb6c-6dad-4c4b-8aea-2e8e638e1463",
   "metadata": {
    "editable": true,
    "slideshow": {
     "slide_type": ""
    },
    "tags": []
   },
   "outputs": [],
   "source": [
    "# Import des packages R nécessaires\n",
    "library(ggplot2)\n",
    "library(dplyr)\n",
    "\n",
    "# N'hésitez pas à rajouter les pacakges qui vous sont nécessaires"
   ]
  },
  {
   "cell_type": "markdown",
   "id": "5eb0a64b-08d5-455e-ae37-ca8abc010f74",
   "metadata": {
    "editable": true,
    "slideshow": {
     "slide_type": ""
    },
    "tags": []
   },
   "source": [
    "### Q1: Démontrer la surreprésentation des bombardements dans le delta du fleuve rouge entre avril et août 1972"
   ]
  },
  {
   "cell_type": "markdown",
   "id": "794e5b07-6dd6-452b-b71a-7b390d24dbff",
   "metadata": {
    "editable": true,
    "jp-MarkdownHeadingCollapsed": true,
    "slideshow": {
     "slide_type": ""
    },
    "tags": []
   },
   "source": [
    "### Q2: Démontrer que les bombardement de la période arvil — août 1972 se focalisent sur la partie est du delta du fleuve Rouge"
   ]
  },
  {
   "cell_type": "markdown",
   "id": "f588bcfa-95d1-4b2e-b773-26360cfa0f64",
   "metadata": {
    "editable": true,
    "slideshow": {
     "slide_type": ""
    },
    "tags": []
   },
   "source": [
    "### Q3: Démontrer que les digues et les zones à proximité du fleuve rouge sont particulièrement touchées (pour la période  arvil — août 1972 )"
   ]
  },
  {
   "cell_type": "markdown",
   "id": "7a17f808-3a18-4674-9132-223787e6953d",
   "metadata": {
    "editable": false,
    "slideshow": {
     "slide_type": ""
    },
    "tags": []
   },
   "source": [
    "## Références\n",
    "- <a id=\"ref_1\">[1]</a> Yves Lacoste. « Enquête sur le bombardement des digues du fleuve Rouge ». In : *Hérodote* 1.1 (1976), p. 86-117.\n",
    "- <a id=\"ref_2\">[2]</a> Yves Lacoste. « Hérodote et un delta, il y a trente ans ». In : *Hérodote* 121.2 (2006), p. 3-5.\n",
    "- <a id=\"ref_3\">[3]</a> Yves Lacoste. « Les bombardements de digues sont délibérés ». In : *Le Monde* (1972)."
   ]
  }
 ],
 "metadata": {
  "kernelspec": {
   "display_name": "R",
   "language": "R",
   "name": "ir"
  },
  "language_info": {
   "codemirror_mode": "r",
   "file_extension": ".r",
   "mimetype": "text/x-r-source",
   "name": "R",
   "pygments_lexer": "r",
   "version": "4.4.1"
  }
 },
 "nbformat": 4,
 "nbformat_minor": 5
}
